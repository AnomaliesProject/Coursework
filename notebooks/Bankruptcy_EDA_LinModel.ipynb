{
 "cells": [
  {
   "cell_type": "code",
   "execution_count": 76,
   "metadata": {},
   "outputs": [],
   "source": [
    "import pandas as pd\n",
    "import numpy as np \n",
    "import seaborn as sns"
   ]
  },
  {
   "cell_type": "code",
   "execution_count": 77,
   "metadata": {},
   "outputs": [],
   "source": [
    "df = pd.read_csv(\"data.csv\")"
   ]
  },
  {
   "cell_type": "code",
   "execution_count": 78,
   "metadata": {},
   "outputs": [
    {
     "name": "stdout",
     "output_type": "stream",
     "text": [
      "<class 'pandas.core.frame.DataFrame'>\n",
      "RangeIndex: 6819 entries, 0 to 6818\n",
      "Data columns (total 96 columns):\n",
      " #   Column                                                    Non-Null Count  Dtype  \n",
      "---  ------                                                    --------------  -----  \n",
      " 0   Bankrupt?                                                 6819 non-null   int64  \n",
      " 1    ROA(C) before interest and depreciation before interest  6819 non-null   float64\n",
      " 2    ROA(A) before interest and % after tax                   6819 non-null   float64\n",
      " 3    ROA(B) before interest and depreciation after tax        6819 non-null   float64\n",
      " 4    Operating Gross Margin                                   6819 non-null   float64\n",
      " 5    Realized Sales Gross Margin                              6819 non-null   float64\n",
      " 6    Operating Profit Rate                                    6819 non-null   float64\n",
      " 7    Pre-tax net Interest Rate                                6819 non-null   float64\n",
      " 8    After-tax net Interest Rate                              6819 non-null   float64\n",
      " 9    Non-industry income and expenditure/revenue              6819 non-null   float64\n",
      " 10   Continuous interest rate (after tax)                     6819 non-null   float64\n",
      " 11   Operating Expense Rate                                   6819 non-null   float64\n",
      " 12   Research and development expense rate                    6819 non-null   float64\n",
      " 13   Cash flow rate                                           6819 non-null   float64\n",
      " 14   Interest-bearing debt interest rate                      6819 non-null   float64\n",
      " 15   Tax rate (A)                                             6819 non-null   float64\n",
      " 16   Net Value Per Share (B)                                  6819 non-null   float64\n",
      " 17   Net Value Per Share (A)                                  6819 non-null   float64\n",
      " 18   Net Value Per Share (C)                                  6819 non-null   float64\n",
      " 19   Persistent EPS in the Last Four Seasons                  6819 non-null   float64\n",
      " 20   Cash Flow Per Share                                      6819 non-null   float64\n",
      " 21   Revenue Per Share (Yuan ¥)                               6819 non-null   float64\n",
      " 22   Operating Profit Per Share (Yuan ¥)                      6819 non-null   float64\n",
      " 23   Per Share Net profit before tax (Yuan ¥)                 6819 non-null   float64\n",
      " 24   Realized Sales Gross Profit Growth Rate                  6819 non-null   float64\n",
      " 25   Operating Profit Growth Rate                             6819 non-null   float64\n",
      " 26   After-tax Net Profit Growth Rate                         6819 non-null   float64\n",
      " 27   Regular Net Profit Growth Rate                           6819 non-null   float64\n",
      " 28   Continuous Net Profit Growth Rate                        6819 non-null   float64\n",
      " 29   Total Asset Growth Rate                                  6819 non-null   float64\n",
      " 30   Net Value Growth Rate                                    6819 non-null   float64\n",
      " 31   Total Asset Return Growth Rate Ratio                     6819 non-null   float64\n",
      " 32   Cash Reinvestment %                                      6819 non-null   float64\n",
      " 33   Current Ratio                                            6819 non-null   float64\n",
      " 34   Quick Ratio                                              6819 non-null   float64\n",
      " 35   Interest Expense Ratio                                   6819 non-null   float64\n",
      " 36   Total debt/Total net worth                               6819 non-null   float64\n",
      " 37   Debt ratio %                                             6819 non-null   float64\n",
      " 38   Net worth/Assets                                         6819 non-null   float64\n",
      " 39   Long-term fund suitability ratio (A)                     6819 non-null   float64\n",
      " 40   Borrowing dependency                                     6819 non-null   float64\n",
      " 41   Contingent liabilities/Net worth                         6819 non-null   float64\n",
      " 42   Operating profit/Paid-in capital                         6819 non-null   float64\n",
      " 43   Net profit before tax/Paid-in capital                    6819 non-null   float64\n",
      " 44   Inventory and accounts receivable/Net value              6819 non-null   float64\n",
      " 45   Total Asset Turnover                                     6819 non-null   float64\n",
      " 46   Accounts Receivable Turnover                             6819 non-null   float64\n",
      " 47   Average Collection Days                                  6819 non-null   float64\n",
      " 48   Inventory Turnover Rate (times)                          6819 non-null   float64\n",
      " 49   Fixed Assets Turnover Frequency                          6819 non-null   float64\n",
      " 50   Net Worth Turnover Rate (times)                          6819 non-null   float64\n",
      " 51   Revenue per person                                       6819 non-null   float64\n",
      " 52   Operating profit per person                              6819 non-null   float64\n",
      " 53   Allocation rate per person                               6819 non-null   float64\n",
      " 54   Working Capital to Total Assets                          6819 non-null   float64\n",
      " 55   Quick Assets/Total Assets                                6819 non-null   float64\n",
      " 56   Current Assets/Total Assets                              6819 non-null   float64\n",
      " 57   Cash/Total Assets                                        6819 non-null   float64\n",
      " 58   Quick Assets/Current Liability                           6819 non-null   float64\n",
      " 59   Cash/Current Liability                                   6819 non-null   float64\n",
      " 60   Current Liability to Assets                              6819 non-null   float64\n",
      " 61   Operating Funds to Liability                             6819 non-null   float64\n",
      " 62   Inventory/Working Capital                                6819 non-null   float64\n",
      " 63   Inventory/Current Liability                              6819 non-null   float64\n",
      " 64   Current Liabilities/Liability                            6819 non-null   float64\n",
      " 65   Working Capital/Equity                                   6819 non-null   float64\n",
      " 66   Current Liabilities/Equity                               6819 non-null   float64\n",
      " 67   Long-term Liability to Current Assets                    6819 non-null   float64\n",
      " 68   Retained Earnings to Total Assets                        6819 non-null   float64\n",
      " 69   Total income/Total expense                               6819 non-null   float64\n",
      " 70   Total expense/Assets                                     6819 non-null   float64\n",
      " 71   Current Asset Turnover Rate                              6819 non-null   float64\n",
      " 72   Quick Asset Turnover Rate                                6819 non-null   float64\n",
      " 73   Working capitcal Turnover Rate                           6819 non-null   float64\n",
      " 74   Cash Turnover Rate                                       6819 non-null   float64\n",
      " 75   Cash Flow to Sales                                       6819 non-null   float64\n",
      " 76   Fixed Assets to Assets                                   6819 non-null   float64\n",
      " 77   Current Liability to Liability                           6819 non-null   float64\n",
      " 78   Current Liability to Equity                              6819 non-null   float64\n",
      " 79   Equity to Long-term Liability                            6819 non-null   float64\n",
      " 80   Cash Flow to Total Assets                                6819 non-null   float64\n",
      " 81   Cash Flow to Liability                                   6819 non-null   float64\n",
      " 82   CFO to Assets                                            6819 non-null   float64\n",
      " 83   Cash Flow to Equity                                      6819 non-null   float64\n",
      " 84   Current Liability to Current Assets                      6819 non-null   float64\n",
      " 85   Liability-Assets Flag                                    6819 non-null   int64  \n",
      " 86   Net Income to Total Assets                               6819 non-null   float64\n",
      " 87   Total assets to GNP price                                6819 non-null   float64\n",
      " 88   No-credit Interval                                       6819 non-null   float64\n",
      " 89   Gross Profit to Sales                                    6819 non-null   float64\n",
      " 90   Net Income to Stockholder's Equity                       6819 non-null   float64\n",
      " 91   Liability to Equity                                      6819 non-null   float64\n",
      " 92   Degree of Financial Leverage (DFL)                       6819 non-null   float64\n",
      " 93   Interest Coverage Ratio (Interest expense to EBIT)       6819 non-null   float64\n",
      " 94   Net Income Flag                                          6819 non-null   int64  \n",
      " 95   Equity to Liability                                      6819 non-null   float64\n",
      "dtypes: float64(93), int64(3)\n",
      "memory usage: 5.0 MB\n"
     ]
    }
   ],
   "source": [
    "df.info()"
   ]
  },
  {
   "attachments": {},
   "cell_type": "markdown",
   "metadata": {},
   "source": [
    "Давайте посмотрим, какое количество пропусков мы имеем в нашем датасете"
   ]
  },
  {
   "cell_type": "code",
   "execution_count": 79,
   "metadata": {},
   "outputs": [
    {
     "data": {
      "text/plain": [
       "0"
      ]
     },
     "execution_count": 79,
     "metadata": {},
     "output_type": "execute_result"
    }
   ],
   "source": [
    "df.isna().sum().sum()"
   ]
  },
  {
   "attachments": {},
   "cell_type": "markdown",
   "metadata": {},
   "source": [
    "Давайте посмотрим, какой процент компаний обанкротился"
   ]
  },
  {
   "cell_type": "code",
   "execution_count": 80,
   "metadata": {},
   "outputs": [
    {
     "data": {
      "text/plain": [
       "220"
      ]
     },
     "execution_count": 80,
     "metadata": {},
     "output_type": "execute_result"
    }
   ],
   "source": [
    "df[\"Bankrupt?\"].sum()"
   ]
  },
  {
   "cell_type": "code",
   "execution_count": 81,
   "metadata": {},
   "outputs": [
    {
     "name": "stdout",
     "output_type": "stream",
     "text": [
      "3.2262795131250916\n"
     ]
    }
   ],
   "source": [
    "print((df[\"Bankrupt?\"].sum()/df[\"Bankrupt?\"].count())*100)"
   ]
  },
  {
   "attachments": {},
   "cell_type": "markdown",
   "metadata": {},
   "source": [
    "Давайте построим матрицу корреляций переменных для того, чтобы понять, есть ли в переменных мультиколлинеарность. Мультиколлинеарность может привести к переобучению модели."
   ]
  },
  {
   "cell_type": "code",
   "execution_count": 82,
   "metadata": {},
   "outputs": [],
   "source": [
    "corrtable = df.corr()"
   ]
  },
  {
   "cell_type": "code",
   "execution_count": 83,
   "metadata": {},
   "outputs": [
    {
     "data": {
      "text/plain": [
       " ROA(C) before interest and depreciation before interest    14\n",
       " ROA(B) before interest and depreciation after tax          13\n",
       " ROA(A) before interest and % after tax                     13\n",
       " Operating Profit Per Share (Yuan ¥)                        12\n",
       " Per Share Net profit before tax (Yuan ¥)                   12\n",
       "                                                            ..\n",
       " Total debt/Total net worth                                  1\n",
       " Interest Expense Ratio                                      1\n",
       " Quick Ratio                                                 1\n",
       "Bankrupt?                                                    1\n",
       " Net Income Flag                                             0\n",
       "Length: 96, dtype: int64"
      ]
     },
     "execution_count": 83,
     "metadata": {},
     "output_type": "execute_result"
    }
   ],
   "source": [
    "corrtable[corrtable>0.5].count().sort_values(ascending= False)"
   ]
  },
  {
   "attachments": {},
   "cell_type": "markdown",
   "metadata": {},
   "source": [
    "Давайте разделим исходную выборку на трейн и тест"
   ]
  },
  {
   "cell_type": "code",
   "execution_count": 84,
   "metadata": {},
   "outputs": [],
   "source": [
    "from sklearn.model_selection import train_test_split"
   ]
  },
  {
   "cell_type": "code",
   "execution_count": 85,
   "metadata": {},
   "outputs": [],
   "source": [
    "X_train, X_test, y_train, y_test = train_test_split(df.drop('Bankrupt?', axis = 1), df[\"Bankrupt?\"], test_size=0.3, random_state=42)"
   ]
  },
  {
   "cell_type": "code",
   "execution_count": 86,
   "metadata": {},
   "outputs": [
    {
     "data": {
      "text/html": [
       "<div>\n",
       "<style scoped>\n",
       "    .dataframe tbody tr th:only-of-type {\n",
       "        vertical-align: middle;\n",
       "    }\n",
       "\n",
       "    .dataframe tbody tr th {\n",
       "        vertical-align: top;\n",
       "    }\n",
       "\n",
       "    .dataframe thead th {\n",
       "        text-align: right;\n",
       "    }\n",
       "</style>\n",
       "<table border=\"1\" class=\"dataframe\">\n",
       "  <thead>\n",
       "    <tr style=\"text-align: right;\">\n",
       "      <th></th>\n",
       "      <th>ROA(C) before interest and depreciation before interest</th>\n",
       "      <th>ROA(A) before interest and % after tax</th>\n",
       "      <th>ROA(B) before interest and depreciation after tax</th>\n",
       "      <th>Operating Gross Margin</th>\n",
       "      <th>Realized Sales Gross Margin</th>\n",
       "      <th>Operating Profit Rate</th>\n",
       "      <th>Pre-tax net Interest Rate</th>\n",
       "      <th>After-tax net Interest Rate</th>\n",
       "      <th>Non-industry income and expenditure/revenue</th>\n",
       "      <th>Continuous interest rate (after tax)</th>\n",
       "      <th>...</th>\n",
       "      <th>Net Income to Total Assets</th>\n",
       "      <th>Total assets to GNP price</th>\n",
       "      <th>No-credit Interval</th>\n",
       "      <th>Gross Profit to Sales</th>\n",
       "      <th>Net Income to Stockholder's Equity</th>\n",
       "      <th>Liability to Equity</th>\n",
       "      <th>Degree of Financial Leverage (DFL)</th>\n",
       "      <th>Interest Coverage Ratio (Interest expense to EBIT)</th>\n",
       "      <th>Net Income Flag</th>\n",
       "      <th>Equity to Liability</th>\n",
       "    </tr>\n",
       "  </thead>\n",
       "  <tbody>\n",
       "    <tr>\n",
       "      <th>5632</th>\n",
       "      <td>0.500951</td>\n",
       "      <td>0.584169</td>\n",
       "      <td>0.553777</td>\n",
       "      <td>0.600614</td>\n",
       "      <td>0.600549</td>\n",
       "      <td>0.999025</td>\n",
       "      <td>0.797528</td>\n",
       "      <td>0.809438</td>\n",
       "      <td>0.303650</td>\n",
       "      <td>0.781627</td>\n",
       "      <td>...</td>\n",
       "      <td>0.820175</td>\n",
       "      <td>0.002280</td>\n",
       "      <td>0.625785</td>\n",
       "      <td>0.600611</td>\n",
       "      <td>0.841847</td>\n",
       "      <td>0.278811</td>\n",
       "      <td>0.026855</td>\n",
       "      <td>0.565445</td>\n",
       "      <td>1</td>\n",
       "      <td>0.033673</td>\n",
       "    </tr>\n",
       "    <tr>\n",
       "      <th>903</th>\n",
       "      <td>0.479647</td>\n",
       "      <td>0.523932</td>\n",
       "      <td>0.530007</td>\n",
       "      <td>0.609666</td>\n",
       "      <td>0.609666</td>\n",
       "      <td>0.998971</td>\n",
       "      <td>0.797330</td>\n",
       "      <td>0.809240</td>\n",
       "      <td>0.303417</td>\n",
       "      <td>0.781504</td>\n",
       "      <td>...</td>\n",
       "      <td>0.789320</td>\n",
       "      <td>0.001707</td>\n",
       "      <td>0.623430</td>\n",
       "      <td>0.609661</td>\n",
       "      <td>0.839409</td>\n",
       "      <td>0.281799</td>\n",
       "      <td>0.025910</td>\n",
       "      <td>0.539820</td>\n",
       "      <td>1</td>\n",
       "      <td>0.023831</td>\n",
       "    </tr>\n",
       "    <tr>\n",
       "      <th>2666</th>\n",
       "      <td>0.516502</td>\n",
       "      <td>0.580953</td>\n",
       "      <td>0.568714</td>\n",
       "      <td>0.610682</td>\n",
       "      <td>0.610682</td>\n",
       "      <td>0.999128</td>\n",
       "      <td>0.797571</td>\n",
       "      <td>0.809469</td>\n",
       "      <td>0.303510</td>\n",
       "      <td>0.781720</td>\n",
       "      <td>...</td>\n",
       "      <td>0.826516</td>\n",
       "      <td>0.000909</td>\n",
       "      <td>0.624479</td>\n",
       "      <td>0.610681</td>\n",
       "      <td>0.841642</td>\n",
       "      <td>0.275619</td>\n",
       "      <td>0.026792</td>\n",
       "      <td>0.565164</td>\n",
       "      <td>1</td>\n",
       "      <td>0.113503</td>\n",
       "    </tr>\n",
       "    <tr>\n",
       "      <th>109</th>\n",
       "      <td>0.446302</td>\n",
       "      <td>0.531509</td>\n",
       "      <td>0.499545</td>\n",
       "      <td>0.595771</td>\n",
       "      <td>0.595771</td>\n",
       "      <td>0.998895</td>\n",
       "      <td>0.797324</td>\n",
       "      <td>0.809286</td>\n",
       "      <td>0.303565</td>\n",
       "      <td>0.781420</td>\n",
       "      <td>...</td>\n",
       "      <td>0.794111</td>\n",
       "      <td>0.015785</td>\n",
       "      <td>0.623716</td>\n",
       "      <td>0.595770</td>\n",
       "      <td>0.839915</td>\n",
       "      <td>0.277858</td>\n",
       "      <td>0.026101</td>\n",
       "      <td>0.555682</td>\n",
       "      <td>1</td>\n",
       "      <td>0.040701</td>\n",
       "    </tr>\n",
       "    <tr>\n",
       "      <th>5316</th>\n",
       "      <td>0.501194</td>\n",
       "      <td>0.560565</td>\n",
       "      <td>0.547781</td>\n",
       "      <td>0.600001</td>\n",
       "      <td>0.600001</td>\n",
       "      <td>0.999034</td>\n",
       "      <td>0.797440</td>\n",
       "      <td>0.809349</td>\n",
       "      <td>0.303477</td>\n",
       "      <td>0.781613</td>\n",
       "      <td>...</td>\n",
       "      <td>0.811586</td>\n",
       "      <td>0.002546</td>\n",
       "      <td>0.624576</td>\n",
       "      <td>0.600001</td>\n",
       "      <td>0.841244</td>\n",
       "      <td>0.279156</td>\n",
       "      <td>0.026794</td>\n",
       "      <td>0.565173</td>\n",
       "      <td>1</td>\n",
       "      <td>0.031863</td>\n",
       "    </tr>\n",
       "  </tbody>\n",
       "</table>\n",
       "<p>5 rows × 95 columns</p>\n",
       "</div>"
      ],
      "text/plain": [
       "       ROA(C) before interest and depreciation before interest  \\\n",
       "5632                                           0.500951          \n",
       "903                                            0.479647          \n",
       "2666                                           0.516502          \n",
       "109                                            0.446302          \n",
       "5316                                           0.501194          \n",
       "\n",
       "       ROA(A) before interest and % after tax  \\\n",
       "5632                                 0.584169   \n",
       "903                                  0.523932   \n",
       "2666                                 0.580953   \n",
       "109                                  0.531509   \n",
       "5316                                 0.560565   \n",
       "\n",
       "       ROA(B) before interest and depreciation after tax  \\\n",
       "5632                                           0.553777    \n",
       "903                                            0.530007    \n",
       "2666                                           0.568714    \n",
       "109                                            0.499545    \n",
       "5316                                           0.547781    \n",
       "\n",
       "       Operating Gross Margin   Realized Sales Gross Margin  \\\n",
       "5632                 0.600614                      0.600549   \n",
       "903                  0.609666                      0.609666   \n",
       "2666                 0.610682                      0.610682   \n",
       "109                  0.595771                      0.595771   \n",
       "5316                 0.600001                      0.600001   \n",
       "\n",
       "       Operating Profit Rate   Pre-tax net Interest Rate  \\\n",
       "5632                0.999025                    0.797528   \n",
       "903                 0.998971                    0.797330   \n",
       "2666                0.999128                    0.797571   \n",
       "109                 0.998895                    0.797324   \n",
       "5316                0.999034                    0.797440   \n",
       "\n",
       "       After-tax net Interest Rate  \\\n",
       "5632                      0.809438   \n",
       "903                       0.809240   \n",
       "2666                      0.809469   \n",
       "109                       0.809286   \n",
       "5316                      0.809349   \n",
       "\n",
       "       Non-industry income and expenditure/revenue  \\\n",
       "5632                                      0.303650   \n",
       "903                                       0.303417   \n",
       "2666                                      0.303510   \n",
       "109                                       0.303565   \n",
       "5316                                      0.303477   \n",
       "\n",
       "       Continuous interest rate (after tax)  ...   Net Income to Total Assets  \\\n",
       "5632                               0.781627  ...                     0.820175   \n",
       "903                                0.781504  ...                     0.789320   \n",
       "2666                               0.781720  ...                     0.826516   \n",
       "109                                0.781420  ...                     0.794111   \n",
       "5316                               0.781613  ...                     0.811586   \n",
       "\n",
       "       Total assets to GNP price   No-credit Interval   Gross Profit to Sales  \\\n",
       "5632                    0.002280             0.625785                0.600611   \n",
       "903                     0.001707             0.623430                0.609661   \n",
       "2666                    0.000909             0.624479                0.610681   \n",
       "109                     0.015785             0.623716                0.595770   \n",
       "5316                    0.002546             0.624576                0.600001   \n",
       "\n",
       "       Net Income to Stockholder's Equity   Liability to Equity  \\\n",
       "5632                             0.841847              0.278811   \n",
       "903                              0.839409              0.281799   \n",
       "2666                             0.841642              0.275619   \n",
       "109                              0.839915              0.277858   \n",
       "5316                             0.841244              0.279156   \n",
       "\n",
       "       Degree of Financial Leverage (DFL)  \\\n",
       "5632                             0.026855   \n",
       "903                              0.025910   \n",
       "2666                             0.026792   \n",
       "109                              0.026101   \n",
       "5316                             0.026794   \n",
       "\n",
       "       Interest Coverage Ratio (Interest expense to EBIT)   Net Income Flag  \\\n",
       "5632                                           0.565445                   1   \n",
       "903                                            0.539820                   1   \n",
       "2666                                           0.565164                   1   \n",
       "109                                            0.555682                   1   \n",
       "5316                                           0.565173                   1   \n",
       "\n",
       "       Equity to Liability  \n",
       "5632              0.033673  \n",
       "903               0.023831  \n",
       "2666              0.113503  \n",
       "109               0.040701  \n",
       "5316              0.031863  \n",
       "\n",
       "[5 rows x 95 columns]"
      ]
     },
     "execution_count": 86,
     "metadata": {},
     "output_type": "execute_result"
    }
   ],
   "source": [
    "X_train.head()"
   ]
  },
  {
   "attachments": {},
   "cell_type": "markdown",
   "metadata": {},
   "source": [
    "Используем линейную классификацию для того, чтобы оценить важность коэффициентов в регрессии."
   ]
  },
  {
   "cell_type": "code",
   "execution_count": 87,
   "metadata": {},
   "outputs": [],
   "source": [
    "from sklearn.linear_model import LogisticRegression"
   ]
  },
  {
   "cell_type": "code",
   "execution_count": 88,
   "metadata": {},
   "outputs": [],
   "source": [
    "clf = LogisticRegression(solver='liblinear')\n",
    "\n",
    "\n",
    "clf.fit(X_train,y_train)\n",
    "y_pred = clf.predict(X_test)"
   ]
  },
  {
   "cell_type": "code",
   "execution_count": 89,
   "metadata": {},
   "outputs": [
    {
     "name": "stdout",
     "output_type": "stream",
     "text": [
      "[[-1.02008489e-13 -1.14028278e-13 -1.11332047e-13 -1.05632682e-13\n",
      "  -1.05610536e-13 -1.69140991e-13 -1.34868029e-13 -1.36790806e-13\n",
      "  -5.13828592e-14 -1.32172267e-13 -1.58819510e-10 -2.66920797e-10\n",
      "  -8.00052674e-14 -4.28657835e-09 -2.74167757e-14 -3.84489764e-14\n",
      "  -3.84725057e-14 -3.84622391e-14 -4.68232914e-14 -5.57788432e-14\n",
      "  -1.97977200e-08 -2.28874217e-14 -3.88765977e-14 -4.30654791e-15\n",
      "  -1.44021214e-13 -1.17739284e-13 -1.17736547e-13 -3.70393409e-14\n",
      "  -3.53390279e-10 -1.35051874e-10 -4.50551124e-14 -6.57099225e-14\n",
      "  -5.11397887e-15  4.16456995e-11 -1.06860974e-13 -1.21584827e-10\n",
      "  -4.86046152e-15 -1.64695348e-13 -2.33371081e-15 -6.01631528e-14\n",
      "  -8.46335995e-16 -2.27954177e-14 -3.79268490e-14 -6.64355332e-14\n",
      "  -2.94250432e-14 -1.02810574e-08 -7.41450481e-09 -2.00375302e-10\n",
      "   7.84064161e-12 -6.13370276e-15  3.01827216e-09 -7.09465643e-14\n",
      "  -5.22292888e-09 -1.52696513e-13 -9.75838898e-14 -1.08893583e-13\n",
      "  -5.06061136e-14 -7.54292947e-10  2.95291629e-10 -5.18781351e-15\n",
      "  -6.16459161e-14 -4.69813939e-14 -5.12605257e-10 -1.36165153e-13\n",
      "  -1.26279427e-13 -5.39561929e-14  1.47861570e-10 -1.63049655e-13\n",
      "  -4.73329617e-16 -2.26340626e-15 -8.77137609e-11 -1.28968612e-11\n",
      "  -1.00396245e-13 -2.01772773e-10 -1.13481118e-13 -2.42292778e-14\n",
      "  -1.36165153e-13 -5.39561929e-14 -1.69319484e-14 -1.18872782e-13\n",
      "  -8.20563021e-14 -1.04940689e-13 -5.51385717e-14 -3.94087893e-16\n",
      "   2.78705186e-15 -1.49430607e-13  2.21689331e-10 -1.06005701e-13\n",
      "  -1.05632390e-13 -1.45560734e-13 -4.49742018e-14 -4.37321539e-15\n",
      "  -9.59032846e-14 -1.69555810e-13 -1.47783977e-14]] [-1.6955581e-13]\n"
     ]
    }
   ],
   "source": [
    "print(clf.coef_, clf.intercept_)"
   ]
  },
  {
   "cell_type": "code",
   "execution_count": 90,
   "metadata": {},
   "outputs": [],
   "source": [
    "from sklearn.metrics import (\n",
    "    confusion_matrix,\n",
    "    accuracy_score,\n",
    "    precision_score,\n",
    "    recall_score,\n",
    "    f1_score\n",
    ")"
   ]
  },
  {
   "cell_type": "code",
   "execution_count": 91,
   "metadata": {},
   "outputs": [],
   "source": [
    "conf_matrix = confusion_matrix(y_test, y_pred)"
   ]
  },
  {
   "cell_type": "code",
   "execution_count": 92,
   "metadata": {},
   "outputs": [
    {
     "name": "stdout",
     "output_type": "stream",
     "text": [
      "[[1958   10]\n",
      " [  77    1]]\n"
     ]
    }
   ],
   "source": [
    "print(conf_matrix)"
   ]
  },
  {
   "cell_type": "code",
   "execution_count": 93,
   "metadata": {},
   "outputs": [
    {
     "data": {
      "image/png": "[encoded data removed]",
      "text/plain": [
       "<Figure size 576x576 with 1 Axes>"
      ]
     },
     "metadata": {},
     "output_type": "display_data"
    }
   ],
   "source": [
    "import matplotlib.pyplot as plt\n",
    "import seaborn as sns\n",
    "\n",
    "plt.figure(figsize=(8,8))\n",
    "sns.set(font_scale = 1.5)\n",
    "\n",
    "ax = sns.heatmap(\n",
    "    conf_matrix, # confusion matrix 2D array \n",
    "    annot=True, # show numbers in the cells\n",
    "    fmt='d', # show numbers as integers\n",
    "    cbar=False, # don't show the color bar\n",
    "    cmap='flag', # customize color map\n",
    "    vmax=175 # to get better color contrast\n",
    ")\n",
    "\n",
    "ax.set_xlabel(\"Predicted\", labelpad=20)\n",
    "ax.set_ylabel(\"Actual\", labelpad=20)\n",
    "plt.show()"
   ]
  },
  {
   "attachments": {},
   "cell_type": "markdown",
   "metadata": {},
   "source": [
    "Давайте также найдем полноту"
   ]
  },
  {
   "cell_type": "code",
   "execution_count": 94,
   "metadata": {},
   "outputs": [
    {
     "data": {
      "text/plain": [
       "0.01282051282051282"
      ]
     },
     "execution_count": 94,
     "metadata": {},
     "output_type": "execute_result"
    }
   ],
   "source": [
    "recall_score(y_true=y_test,y_pred=y_pred)"
   ]
  },
  {
   "cell_type": "code",
   "execution_count": 95,
   "metadata": {},
   "outputs": [
    {
     "data": {
      "text/plain": [
       "0.9574780058651027"
      ]
     },
     "execution_count": 95,
     "metadata": {},
     "output_type": "execute_result"
    }
   ],
   "source": [
    "accuracy_score(y_true=y_test, y_pred= y_pred)"
   ]
  },
  {
   "attachments": {},
   "cell_type": "markdown",
   "metadata": {},
   "source": [
    "Теперь давайте обучим модель с помощью метода опорных векторов."
   ]
  },
  {
   "cell_type": "code",
   "execution_count": 96,
   "metadata": {},
   "outputs": [],
   "source": [
    "import numpy as np\n",
    "from sklearn.pipeline import make_pipeline\n",
    "from sklearn.preprocessing import StandardScaler\n",
    "from sklearn.svm import SVC"
   ]
  },
  {
   "cell_type": "code",
   "execution_count": 97,
   "metadata": {},
   "outputs": [],
   "source": [
    "clf = make_pipeline(StandardScaler(), SVC(gamma='auto'))\n",
    "\n",
    "clf.fit(X_train, y_train)\n",
    "y_pred = clf.predict(X_test)\n"
   ]
  },
  {
   "cell_type": "code",
   "execution_count": 98,
   "metadata": {},
   "outputs": [],
   "source": [
    "conf_matrix = confusion_matrix(y_test, y_pred)"
   ]
  },
  {
   "cell_type": "code",
   "execution_count": 99,
   "metadata": {},
   "outputs": [
    {
     "name": "stdout",
     "output_type": "stream",
     "text": [
      "[[1967    1]\n",
      " [  78    0]]\n"
     ]
    }
   ],
   "source": [
    "print(conf_matrix)"
   ]
  },
  {
   "cell_type": "code",
   "execution_count": 100,
   "metadata": {},
   "outputs": [
    {
     "data": {
      "image/png": "[encoded data removed]",
      "text/plain": [
       "<Figure size 576x576 with 1 Axes>"
      ]
     },
     "metadata": {},
     "output_type": "display_data"
    }
   ],
   "source": [
    "plt.figure(figsize=(8,8))\n",
    "sns.set(font_scale = 1.5)\n",
    "\n",
    "ax = sns.heatmap(\n",
    "    conf_matrix, # confusion matrix 2D array \n",
    "    annot=True, # show numbers in the cells\n",
    "    fmt='d', # show numbers as integers\n",
    "    cbar=False, # don't show the color bar\n",
    "    cmap='flag', # customize color map\n",
    "    vmax=175 # to get better color contrast\n",
    ")\n",
    "\n",
    "ax.set_xlabel(\"Predicted\", labelpad=20)\n",
    "ax.set_ylabel(\"Actual\", labelpad=20)\n",
    "plt.show()"
   ]
  },
  {
   "cell_type": "code",
   "execution_count": 101,
   "metadata": {},
   "outputs": [
    {
     "data": {
      "text/plain": [
       "0.9613880742913001"
      ]
     },
     "execution_count": 101,
     "metadata": {},
     "output_type": "execute_result"
    }
   ],
   "source": [
    "accuracy_score(y_true=y_test, y_pred= y_pred)"
   ]
  },
  {
   "cell_type": "code",
   "execution_count": 102,
   "metadata": {},
   "outputs": [
    {
     "data": {
      "text/plain": [
       "0.0"
      ]
     },
     "execution_count": 102,
     "metadata": {},
     "output_type": "execute_result"
    }
   ],
   "source": [
    "recall_score(y_true=y_test,y_pred=y_pred)"
   ]
  },
  {
   "attachments": {},
   "cell_type": "markdown",
   "metadata": {},
   "source": [
    "Как мы можем видеть, качество модели немного выросло, однако некоторое количество аномального класса все равно предсказывается неверно."
   ]
  },
  {
   "cell_type": "code",
   "execution_count": null,
   "metadata": {},
   "outputs": [],
   "source": []
  }
 ],
 "metadata": {
  "kernelspec": {
   "display_name": "base",
   "language": "python",
   "name": "python3"
  },
  "language_info": {
   "codemirror_mode": {
    "name": "ipython",
    "version": 3
   },
   "file_extension": ".py",
   "mimetype": "text/x-python",
   "name": "python",
   "nbconvert_exporter": "python",
   "pygments_lexer": "ipython3",
   "version": "3.8.5"
  },
  "orig_nbformat": 4
 },
 "nbformat": 4,
 "nbformat_minor": 2
}
